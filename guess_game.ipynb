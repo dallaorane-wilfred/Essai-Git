{
 "cells": [
  {
   "cell_type": "code",
   "execution_count": null,
   "metadata": {},
   "outputs": [],
   "source": []
  },
  {
   "cell_type": "markdown",
   "metadata": {},
   "source": [
    "## Guess Chosen Number Game\n"
   ]
  },
  {
   "cell_type": "code",
   "execution_count": 2,
   "metadata": {},
   "outputs": [
    {
     "name": "stdout",
     "output_type": "stream",
     "text": [
      "Welcome to the Number Guessing Game!\n",
      "I'm thinking of a number between 1 and 100.\n",
      "Too low! Try again.\n",
      "Too high! Try again.\n",
      "Too low! Try again.\n",
      "Too low! Try again.\n",
      "Too low! Try again.\n",
      "Too high! Try again.\n",
      "Too high! Try again.\n",
      "Too low! Try again.\n",
      "Congratulations! You guessed the number in 9 tries.\n"
     ]
    }
   ],
   "source": [
    "import random\n",
    "\n",
    "def number_guessing_game():\n",
    "    \"\"\"\n",
    "    Plays a number guessing game where the user tries to guess a randomly chosen number.\n",
    "    \"\"\"\n",
    "\n",
    "    target_number = random.randint(1, 100)\n",
    "    num_guesses = 0\n",
    "\n",
    "    print(\"Welcome to the Number Guessing Game!\")\n",
    "    print(\"I'm thinking of a number between 1 and 100.\")\n",
    "\n",
    "    while True:\n",
    "        try:\n",
    "            guess = int(input(\"Enter your guess: \"))\n",
    "            num_guesses += 1\n",
    "\n",
    "            if guess < target_number:\n",
    "                print(\"Too low! Try again.\")\n",
    "            elif guess > target_number:\n",
    "                print(\"Too high! Try again.\")\n",
    "            else:\n",
    "                print(f\"Congratulations! You guessed the number in {num_guesses} tries.\")\n",
    "                break\n",
    "        except ValueError:\n",
    "            print(\"Invalid input. Please enter a number.\")\n",
    "\n",
    "if __name__ == \"__main__\":\n",
    "    number_guessing_game()"
   ]
  },
  {
   "cell_type": "code",
   "execution_count": 9,
   "metadata": {},
   "outputs": [
    {
     "name": "stdout",
     "output_type": "stream",
     "text": [
      "Note: you may need to restart the kernel to use updated packages.\n"
     ]
    }
   ],
   "source": [
    "pip install ipywidgets >NULL\n"
   ]
  },
  {
   "cell_type": "code",
   "execution_count": 6,
   "metadata": {},
   "outputs": [
    {
     "data": {
      "application/vnd.jupyter.widget-view+json": {
       "model_id": "2d90629bcca44f969159bac8fc25ccb9",
       "version_major": 2,
       "version_minor": 0
      },
      "text/plain": [
       "Text(value='', description='Your Guess:', style=DescriptionStyle(description_width='150px'))"
      ]
     },
     "metadata": {},
     "output_type": "display_data"
    },
    {
     "data": {
      "application/vnd.jupyter.widget-view+json": {
       "model_id": "a2a77429eb5742189d85100b531609e4",
       "version_major": 2,
       "version_minor": 0
      },
      "text/plain": [
       "Button(description='Guess', style=ButtonStyle(button_color='lightblue'))"
      ]
     },
     "metadata": {},
     "output_type": "display_data"
    },
    {
     "data": {
      "application/vnd.jupyter.widget-view+json": {
       "model_id": "2612762d77914d66b7a6f428f1dccd16",
       "version_major": 2,
       "version_minor": 0
      },
      "text/plain": [
       "Textarea(value='', description='Feedback', style=DescriptionStyle(description_width='150px'))"
      ]
     },
     "metadata": {},
     "output_type": "display_data"
    },
    {
     "data": {
      "application/vnd.jupyter.widget-view+json": {
       "model_id": "f42a755bd6014b06b54cf39da161ba6e",
       "version_major": 2,
       "version_minor": 0
      },
      "text/plain": [
       "Label(value='Score: 0/10')"
      ]
     },
     "metadata": {},
     "output_type": "display_data"
    },
    {
     "data": {
      "application/vnd.jupyter.widget-view+json": {
       "model_id": "b25dce34a85b44d794baadaeb92f63ff",
       "version_major": 2,
       "version_minor": 0
      },
      "text/plain": [
       "Label(value='')"
      ]
     },
     "metadata": {},
     "output_type": "display_data"
    }
   ],
   "source": [
    "import ipywidgets as widgets\n",
    "from IPython.display import display\n",
    "import random\n",
    "\n",
    "def number_guessing_game():\n",
    "    \"\"\"\n",
    "    Plays a number guessing game with a graphical interface.\n",
    "    \"\"\"\n",
    "\n",
    "    target_number = random.randint(1, 100)\n",
    "    num_guesses = 0\n",
    "    max_tries = 10\n",
    "\n",
    "    # Create widgets\n",
    "    guess_text = widgets.Text(description=\"Your Guess:\")\n",
    "    guess_button = widgets.Button(description=\"Guess\")\n",
    "    feedback_text = widgets.Textarea(description=\"Feedback\")\n",
    "    score_text = widgets.Label(value=f\"Score: 0/{max_tries}\")\n",
    "    loss_message = widgets.Label(value=\"\", visible=False)  # Initially hidden\n",
    "\n",
    "    def on_guess_button_clicked(b):\n",
    "        nonlocal num_guesses\n",
    "\n",
    "        try:\n",
    "            guess = int(guess_text.value)\n",
    "            num_guesses += 1\n",
    "\n",
    "            if guess < target_number:\n",
    "                feedback_text.value = \"Too low! Try again.\"\n",
    "            elif guess > target_number:\n",
    "                feedback_text.value = \"Too high! Try again.\"\n",
    "            else:\n",
    "                feedback_text.value = f\"Congratulations! You guessed the number in {num_guesses} tries.\"\n",
    "                guess_button.disabled = True  # Disable the button after a correct guess\n",
    "                loss_message.visible = False  # Hide loss message\n",
    "            score_text.value = f\"Score: {num_guesses}/{max_tries}\"\n",
    "\n",
    "            if num_guesses >= max_tries and guess != target_number:\n",
    "                feedback_text.value = \"Out of tries! The correct number was \" + str(target_number)\n",
    "                loss_message.value = \"You lost!\"\n",
    "                loss_message.visible = True\n",
    "        except ValueError:\n",
    "            feedback_text.value = \"Invalid input. Please enter a number.\"\n",
    "\n",
    "    # Connect button click to function\n",
    "    guess_button.on_click(on_guess_button_clicked)\n",
    "\n",
    "    # Customize appearance\n",
    "    guess_text.style.description_width = '150px'\n",
    "    guess_button.style.button_color = 'lightblue'\n",
    "    feedback_text.style.description_width = '150px'\n",
    "    score_text.style.font_weight = 'bold'\n",
    "    loss_message.style.color = 'red'\n",
    "    loss_message.style.font_weight = 'bold'\n",
    "\n",
    "    # Display widgets\n",
    "    display(guess_text, guess_button, feedback_text, score_text, loss_message)\n",
    "\n",
    "if __name__ == \"__main__\":\n",
    "    number_guessing_game()"
   ]
  }
 ],
 "metadata": {
  "kernelspec": {
   "display_name": "base",
   "language": "python",
   "name": "python3"
  },
  "language_info": {
   "codemirror_mode": {
    "name": "ipython",
    "version": 3
   },
   "file_extension": ".py",
   "mimetype": "text/x-python",
   "name": "python",
   "nbconvert_exporter": "python",
   "pygments_lexer": "ipython3",
   "version": "3.12.4"
  }
 },
 "nbformat": 4,
 "nbformat_minor": 2
}
