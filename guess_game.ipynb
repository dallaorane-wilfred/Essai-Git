{
 "cells": [
  {
   "cell_type": "markdown",
   "metadata": {},
   "source": [
    "## Guess Chosen Number Game\n"
   ]
  },
  {
   "cell_type": "code",
   "execution_count": 9,
   "metadata": {},
   "outputs": [
    {
     "name": "stdout",
     "output_type": "stream",
     "text": [
      "Note: you may need to restart the kernel to use updated packages.\n"
     ]
    }
   ],
   "source": [
    "pip install ipywidgets >NULL\n"
   ]
  },
  {
   "cell_type": "code",
   "execution_count": 1,
   "metadata": {},
   "outputs": [
    {
     "data": {
      "application/vnd.jupyter.widget-view+json": {
       "model_id": "c07ce60afbb045dc98ac0b91b3dd7496",
       "version_major": 2,
       "version_minor": 0
      },
      "text/plain": [
       "Text(value='', description='Your Guess:', style=DescriptionStyle(description_width='150px'))"
      ]
     },
     "metadata": {},
     "output_type": "display_data"
    },
    {
     "data": {
      "application/vnd.jupyter.widget-view+json": {
       "model_id": "b0dea60c928c4b1baa81e680bd47a690",
       "version_major": 2,
       "version_minor": 0
      },
      "text/plain": [
       "Button(description='Guess', style=ButtonStyle(button_color='lightblue'))"
      ]
     },
     "metadata": {},
     "output_type": "display_data"
    },
    {
     "data": {
      "application/vnd.jupyter.widget-view+json": {
       "model_id": "94de0640d5934d58a2c575348fbfa1ad",
       "version_major": 2,
       "version_minor": 0
      },
      "text/plain": [
       "Textarea(value='', description='Feedback', style=DescriptionStyle(description_width='150px'))"
      ]
     },
     "metadata": {},
     "output_type": "display_data"
    },
    {
     "data": {
      "application/vnd.jupyter.widget-view+json": {
       "model_id": "961349a601394d80ad5c3c6f30496a71",
       "version_major": 2,
       "version_minor": 0
      },
      "text/plain": [
       "Label(value='Score: 0/10')"
      ]
     },
     "metadata": {},
     "output_type": "display_data"
    },
    {
     "data": {
      "application/vnd.jupyter.widget-view+json": {
       "model_id": "2b388e3b6e9344c5bc1c419f5f554171",
       "version_major": 2,
       "version_minor": 0
      },
      "text/plain": [
       "Label(value='')"
      ]
     },
     "metadata": {},
     "output_type": "display_data"
    }
   ],
   "source": [
    "import ipywidgets as widgets\n",
    "from IPython.display import display\n",
    "import random\n",
    "\n",
    "def number_guessing_game():\n",
    "    \"\"\"\n",
    "    Plays a number guessing game with a graphical interface.\n",
    "    \"\"\"\n",
    "\n",
    "    target_number = random.randint(1, 100)\n",
    "    num_guesses = 0\n",
    "    max_tries = 15\n",
    "\n",
    "    # Create widgets\n",
    "    guess_text = widgets.Text(description=\"Your Guess:\")\n",
    "    guess_button = widgets.Button(description=\"Guess\")\n",
    "    feedback_text = widgets.Textarea(description=\"Feedback\")\n",
    "    score_text = widgets.Label(value=f\"Score: 0/{max_tries}\")\n",
    "    loss_message = widgets.Label(value=\"\", visible=False)  # Initially hidden\n",
    "\n",
    "    def on_guess_button_clicked(b):\n",
    "        nonlocal num_guesses\n",
    "\n",
    "        try:\n",
    "            guess = int(guess_text.value)\n",
    "            num_guesses += 1\n",
    "\n",
    "            if guess < target_number:\n",
    "                feedback_text.value = \"Too low! Try again.\"\n",
    "            elif guess > target_number:\n",
    "                feedback_text.value = \"Too high! Try again.\"\n",
    "            else:\n",
    "                feedback_text.value = f\"Congratulations! You guessed the number in {num_guesses} tries.\"\n",
    "                guess_button.disabled = True  # Disable the button after a correct guess\n",
    "                loss_message.visible = False  # Hide loss message\n",
    "            score_text.value = f\"Score: {num_guesses}/{max_tries}\"\n",
    "\n",
    "            if num_guesses >= max_tries and guess != target_number:\n",
    "                feedback_text.value = \"Out of tries! The correct number was \" + str(target_number)\n",
    "                loss_message.value = \"You lost!\"\n",
    "                loss_message.visible = True\n",
    "        except ValueError:\n",
    "            feedback_text.value = \"Invalid input. Please enter a number.\"\n",
    "\n",
    "    # Connect button click to function\n",
    "    guess_button.on_click(on_guess_button_clicked)\n",
    "\n",
    "    # Customize appearance\n",
    "    guess_text.style.description_width = '150px'\n",
    "    guess_button.style.button_color = 'lightblue'\n",
    "    feedback_text.style.description_width = '150px'\n",
    "    score_text.style.font_weight = 'bold'\n",
    "    loss_message.style.color = 'red'\n",
    "    loss_message.style.font_weight = 'bold'\n",
    "\n",
    "    # Display widgets\n",
    "    display(guess_text, guess_button, feedback_text, score_text, loss_message)\n",
    "\n",
    "if __name__ == \"__main__\":\n",
    "    number_guessing_game()"
   ]
  },
  {
   "cell_type": "code",
   "execution_count": null,
   "metadata": {},
   "outputs": [
    {
     "data": {
      "application/vnd.jupyter.widget-view+json": {
       "model_id": "e5b0e34f13254e8cba8efb48c9f1c850",
       "version_major": 2,
       "version_minor": 0
      },
      "text/plain": [
       "Text(value='', description='Your Guess:')"
      ]
     },
     "metadata": {},
     "output_type": "display_data"
    },
    {
     "data": {
      "application/vnd.jupyter.widget-view+json": {
       "model_id": "693c9f4dd47e4b739f48efb02d4ee3ab",
       "version_major": 2,
       "version_minor": 0
      },
      "text/plain": [
       "Button(description='Guess', style=ButtonStyle())"
      ]
     },
     "metadata": {},
     "output_type": "display_data"
    },
    {
     "data": {
      "application/vnd.jupyter.widget-view+json": {
       "model_id": "00c74175a22d48008eadfb9d931a1949",
       "version_major": 2,
       "version_minor": 0
      },
      "text/plain": [
       "Textarea(value='', description='Feedback')"
      ]
     },
     "metadata": {},
     "output_type": "display_data"
    },
    {
     "ename": "NameError",
     "evalue": "name 'target_number' is not defined",
     "output_type": "error",
     "traceback": [
      "\u001b[1;31m---------------------------------------------------------------------------\u001b[0m\n",
      "\u001b[1;31mNameError\u001b[0m                                 Traceback (most recent call last)\n",
      "Cell \u001b[1;32mIn[4], line 10\u001b[0m, in \u001b[0;36mon_guess_button_clicked\u001b[1;34m(b)\u001b[0m\n",
      "\u001b[0;32m      6\u001b[0m \u001b[38;5;28;01mdef\u001b[39;00m \u001b[38;5;21mon_guess_button_clicked\u001b[39m(b):\n",
      "\u001b[0;32m      9\u001b[0m     guess \u001b[38;5;241m=\u001b[39m \u001b[38;5;28mint\u001b[39m(guess_text\u001b[38;5;241m.\u001b[39mvalue)\n",
      "\u001b[1;32m---> 10\u001b[0m     \u001b[38;5;28;01mif\u001b[39;00m guess \u001b[38;5;241m<\u001b[39m target_number:\n",
      "\u001b[0;32m     11\u001b[0m         feedback_text\u001b[38;5;241m.\u001b[39mvalue \u001b[38;5;241m=\u001b[39m \u001b[38;5;124m\"\u001b[39m\u001b[38;5;124mToo low! Try again.\u001b[39m\u001b[38;5;124m\"\u001b[39m\n",
      "\u001b[0;32m     12\u001b[0m     \u001b[38;5;28;01melif\u001b[39;00m guess \u001b[38;5;241m>\u001b[39m target_number:\n",
      "\n",
      "\u001b[1;31mNameError\u001b[0m: name 'target_number' is not defined"
     ]
    }
   ],
   "source": []
  }
 ],
 "metadata": {
  "kernelspec": {
   "display_name": "base",
   "language": "python",
   "name": "python3"
  },
  "language_info": {
   "codemirror_mode": {
    "name": "ipython",
    "version": 3
   },
   "file_extension": ".py",
   "mimetype": "text/x-python",
   "name": "python",
   "nbconvert_exporter": "python",
   "pygments_lexer": "ipython3",
   "version": "3.12.4"
  }
 },
 "nbformat": 4,
 "nbformat_minor": 2
}
